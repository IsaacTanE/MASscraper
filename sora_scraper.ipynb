{
 "cells": [
  {
   "cell_type": "markdown",
   "metadata": {},
   "source": [
    "# SORA SCRAPER"
   ]
  },
  {
   "cell_type": "code",
   "execution_count": 42,
   "metadata": {},
   "outputs": [
    {
     "name": "stdout",
     "output_type": "stream",
     "text": [
      "✅ Downloaded & overwrote: /Users/isaac/Downloads/DomesticInterestRates.csv\n"
     ]
    }
   ],
   "source": [
    "import requests\n",
    "from bs4 import BeautifulSoup\n",
    "from pathlib import Path\n",
    "\n",
    "# — Configuration & setup (as before) —\n",
    "url     = \"https://eservices.mas.gov.sg/statistics/dir/DomesticInterestRates.aspx\"\n",
    "session = requests.Session()\n",
    "hdrs    = {\"User-Agent\":\"Mozilla/5.0\",\"Referer\":url}\n",
    "\n",
    "# 1) Grab the form + hidden fields\n",
    "r1   = session.get(url, headers=hdrs, timeout=10)\n",
    "soup = BeautifulSoup(r1.text, \"html.parser\")\n",
    "def hidden(n): return soup.find(\"input\",{\"name\":n})[\"value\"]\n",
    "\n",
    "payload = {\n",
    "  \"__EVENTTARGET\":   \"\",\n",
    "  \"__EVENTARGUMENT\": \"\",\n",
    "  \"__VIEWSTATE\":          hidden(\"__VIEWSTATE\"),\n",
    "  \"__VIEWSTATEGENERATOR\": hidden(\"__VIEWSTATEGENERATOR\"),\n",
    "  \"__EVENTVALIDATION\":    hidden(\"__EVENTVALIDATION\"),\n",
    "  \"ctl00$ContentPlaceHolder1$StartYearDropDownList\":  \"2019\",\n",
    "  \"ctl00$ContentPlaceHolder1$StartMonthDropDownList\": \"1\",\n",
    "  \"ctl00$ContentPlaceHolder1$EndYearDropDownList\":    \"2025\",\n",
    "  \"ctl00$ContentPlaceHolder1$EndMonthDropDownList\":   \"7\",\n",
    "}\n",
    "\n",
    "# 2) Build a map of label→(input_name, value)\n",
    "checkboxes = soup.select(\"input[type=checkbox]\")\n",
    "series_map = {}\n",
    "for cb in checkboxes:\n",
    "    cb_id    = cb[\"id\"]\n",
    "    label    = soup.find(\"label\", {\"for\": cb_id}).text.strip()\n",
    "    name     = cb[\"name\"]\n",
    "    # ASP.NET default for unchecked without a value is “on”\n",
    "    value    = cb.get(\"value\", \"on\")\n",
    "    series_map[label] = (name, value)\n",
    "\n",
    "# 3) Tell the script which series you want\n",
    "to_select = [\n",
    "    \"SORA\",\n",
    "    \"SORA Index\",\n",
    "    \"1-month Compounded SORA\"\n",
    "]\n",
    "\n",
    "# 4) Add those checkboxes to your payload\n",
    "for label in to_select:\n",
    "    if label not in series_map:\n",
    "        raise KeyError(f\"Series not found on page: {label}\")\n",
    "    name, val = series_map[label]\n",
    "    payload[name] = val\n",
    "\n",
    "# 5) Indicate you clicked “Download”\n",
    "payload[\"ctl00$ContentPlaceHolder1$Button2\"] = \"Download\"\n",
    "\n",
    "# 6) POST & save CSV (overwrites old file)\n",
    "r2 = session.post(url, headers=hdrs, data=payload, timeout=30)\n",
    "r2.raise_for_status()\n",
    "\n",
    "csv_path = Path.cwd() / \"DomesticInterestRates.csv\"\n",
    "with open(csv_path, \"wb\") as f:\n",
    "    f.write(r2.content)\n",
    "\n",
    "print(f\"✅ Downloaded & overwrote: {csv_path}\")\n"
   ]
  },
  {
   "cell_type": "markdown",
   "metadata": {},
   "source": [
    "# SGS Scraper\n"
   ]
  },
  {
   "cell_type": "code",
   "execution_count": 46,
   "metadata": {},
   "outputs": [
    {
     "name": "stdout",
     "output_type": "stream",
     "text": [
      "✅ Downloaded and saved to /Users/isaac/Downloads/SgsBenchmarkIssuePrices.csv\n"
     ]
    }
   ],
   "source": [
    "import requests\n",
    "from bs4 import BeautifulSoup\n",
    "from pathlib import Path\n",
    "\n",
    "# 1. Configuration\n",
    "url     = \"https://eservices.mas.gov.sg/statistics/fdanet/SgsBenchmarkIssuePrices.aspx\"\n",
    "session = requests.Session()\n",
    "headers = {\n",
    "    \"User-Agent\": \"Mozilla/5.0\",\n",
    "    \"Referer\": url\n",
    "}\n",
    "\n",
    "# 2. GET the page and parse hidden ASP.NET fields\n",
    "r1 = session.get(url, headers=headers, timeout=10)\n",
    "r1.raise_for_status()\n",
    "soup = BeautifulSoup(r1.text, \"html.parser\")\n",
    "\n",
    "def hidden(name):\n",
    "    el = soup.find(\"input\", {\"name\": name})\n",
    "    return el[\"value\"] if el else \"\"\n",
    "\n",
    "payload = {\n",
    "    \"__EVENTTARGET\":        \"\",\n",
    "    \"__EVENTARGUMENT\":      \"\",\n",
    "    \"__VIEWSTATE\":          hidden(\"__VIEWSTATE\"),\n",
    "    \"__VIEWSTATEGENERATOR\": hidden(\"__VIEWSTATEGENERATOR\"),\n",
    "    \"__EVENTVALIDATION\":    hidden(\"__EVENTVALIDATION\"),\n",
    "}\n",
    "\n",
    "# 3. Find the Download button and add its name/value to the payload\n",
    "#    (the button is <button name=\"ctl00$ContentPlaceHolder1$btnDownload\">Download</button>)\n",
    "download_btn = soup.find(\n",
    "    lambda tag: tag.name in (\"button\",\"input\")\n",
    "                and ((tag.name==\"button\" and tag.text.strip().lower()==\"download\")\n",
    "                     or (tag.name==\"input\" and tag.get(\"value\",\"\").lower()==\"download\"))\n",
    ")\n",
    "btn_name  = download_btn[\"name\"]\n",
    "btn_value = download_btn.get(\"value\", download_btn.text.strip())\n",
    "payload[btn_name] = btn_value\n",
    "\n",
    "# 4. POST back to get the CSV bytes\n",
    "r2 = session.post(url, headers=headers, data=payload, timeout=30)\n",
    "r2.raise_for_status()\n",
    "\n",
    "# 5. Verify CSV & write to disk\n",
    "content_type = r2.headers.get(\"Content-Type\",\"\")\n",
    "if \"text/csv\" not in content_type:\n",
    "    raise RuntimeError(f\"Expected CSV but got {content_type}\")\n",
    "\n",
    "out_file = Path.cwd() / \"SgsBenchmarkIssuePrices.csv\"\n",
    "out_file.write_bytes(r2.content)\n",
    "print(f\"✅ Downloaded and saved to {out_file}\")\n"
   ]
  },
  {
   "cell_type": "code",
   "execution_count": null,
   "metadata": {},
   "outputs": [],
   "source": []
  }
 ],
 "metadata": {
  "kernelspec": {
   "display_name": "Python 3",
   "language": "python",
   "name": "python3"
  },
  "language_info": {
   "codemirror_mode": {
    "name": "ipython",
    "version": 3
   },
   "file_extension": ".py",
   "mimetype": "text/x-python",
   "name": "python",
   "nbconvert_exporter": "python",
   "pygments_lexer": "ipython3",
   "version": "3.13.0"
  }
 },
 "nbformat": 4,
 "nbformat_minor": 2
}
